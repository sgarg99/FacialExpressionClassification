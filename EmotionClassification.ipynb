{
  "nbformat": 4,
  "nbformat_minor": 0,
  "metadata": {
    "colab": {
      "name": "EmotionClassification.ipynb",
      "version": "0.3.2",
      "provenance": [],
      "collapsed_sections": [],
      "include_colab_link": true
    },
    "kernelspec": {
      "name": "python3",
      "display_name": "Python 3"
    },
    "accelerator": "GPU"
  },
  "cells": [
    {
      "cell_type": "markdown",
      "metadata": {
        "id": "view-in-github",
        "colab_type": "text"
      },
      "source": [
        "<a href=\"https://colab.research.google.com/github/sgarg99/FacialExpressionClassification/blob/master/EmotionClassification.ipynb\" target=\"_parent\"><img src=\"https://colab.research.google.com/assets/colab-badge.svg\" alt=\"Open In Colab\"/></a>"
      ]
    },
    {
      "cell_type": "code",
      "metadata": {
        "id": "eAkEfRjQqtgh",
        "colab_type": "code",
        "colab": {}
      },
      "source": [
        "from google.colab import drive"
      ],
      "execution_count": 0,
      "outputs": []
    },
    {
      "cell_type": "code",
      "metadata": {
        "id": "oUZjc4_U4zyd",
        "colab_type": "code",
        "colab": {
          "base_uri": "https://localhost:8080/",
          "height": 118
        },
        "outputId": "544c9d02-80a3-437e-cfe6-a1ea7c569abf"
      },
      "source": [
        "!pip install -q tf-nightly"
      ],
      "execution_count": 2,
      "outputs": [
        {
          "output_type": "stream",
          "text": [
            "\u001b[K     |████████████████████████████████| 109.7MB 291kB/s \n",
            "\u001b[K     |████████████████████████████████| 491kB 41.0MB/s \n",
            "\u001b[K     |████████████████████████████████| 61kB 21.2MB/s \n",
            "\u001b[K     |████████████████████████████████| 3.1MB 29.4MB/s \n",
            "\u001b[?25h  Building wheel for wrapt (setup.py) ... \u001b[?25l\u001b[?25hdone\n",
            "\u001b[31mERROR: thinc 6.12.1 has requirement wrapt<1.11.0,>=1.10.0, but you'll have wrapt 1.11.1 which is incompatible.\u001b[0m\n"
          ],
          "name": "stdout"
        }
      ]
    },
    {
      "cell_type": "code",
      "metadata": {
        "id": "k_WpOJrSq96T",
        "colab_type": "code",
        "outputId": "766751e2-ce80-4389-a817-e58595380574",
        "colab": {
          "base_uri": "https://localhost:8080/",
          "height": 121
        }
      },
      "source": [
        "drive.mount('/content/gdrive')"
      ],
      "execution_count": 3,
      "outputs": [
        {
          "output_type": "stream",
          "text": [
            "Go to this URL in a browser: https://accounts.google.com/o/oauth2/auth?client_id=947318989803-6bn6qk8qdgf4n4g3pfee6491hc0brc4i.apps.googleusercontent.com&redirect_uri=urn%3Aietf%3Awg%3Aoauth%3A2.0%3Aoob&scope=email%20https%3A%2F%2Fwww.googleapis.com%2Fauth%2Fdocs.test%20https%3A%2F%2Fwww.googleapis.com%2Fauth%2Fdrive%20https%3A%2F%2Fwww.googleapis.com%2Fauth%2Fdrive.photos.readonly%20https%3A%2F%2Fwww.googleapis.com%2Fauth%2Fpeopleapi.readonly&response_type=code\n",
            "\n",
            "Enter your authorization code:\n",
            "··········\n",
            "Mounted at /content/gdrive\n"
          ],
          "name": "stdout"
        }
      ]
    },
    {
      "cell_type": "code",
      "metadata": {
        "id": "ipznm7PIrgAB",
        "colab_type": "code",
        "outputId": "5ed81b3d-4879-4c26-ea65-7fce669245d6",
        "colab": {
          "base_uri": "https://localhost:8080/",
          "height": 34
        }
      },
      "source": [
        "cd gdrive/My Drive/Emotion_Classification/Training"
      ],
      "execution_count": 78,
      "outputs": [
        {
          "output_type": "stream",
          "text": [
            "/content/gdrive/My Drive/Emotion_Classification/Training\n"
          ],
          "name": "stdout"
        }
      ]
    },
    {
      "cell_type": "code",
      "metadata": {
        "id": "QRpxrq5kriol",
        "colab_type": "code",
        "outputId": "42d8ab61-ac5d-49f4-acfe-daa983448e7f",
        "colab": {
          "base_uri": "https://localhost:8080/",
          "height": 34
        }
      },
      "source": [
        "from __future__ import absolute_import, division, print_function\n",
        "import tensorflow as tf\n",
        "tf.enable_eager_execution()\n",
        "\n",
        "tf.VERSION"
      ],
      "execution_count": 79,
      "outputs": [
        {
          "output_type": "execute_result",
          "data": {
            "text/plain": [
              "'1.14.1-dev20190531'"
            ]
          },
          "metadata": {
            "tags": []
          },
          "execution_count": 79
        }
      ]
    },
    {
      "cell_type": "code",
      "metadata": {
        "id": "um27reWHtkJ_",
        "colab_type": "code",
        "colab": {}
      },
      "source": [
        "AUTOTUNE = tf.data.experimental.AUTOTUNE"
      ],
      "execution_count": 0,
      "outputs": []
    },
    {
      "cell_type": "code",
      "metadata": {
        "id": "xkBsayjvu0VE",
        "colab_type": "code",
        "outputId": "658dcfbd-a67b-4c21-8e2f-3bfd17f7d4ac",
        "colab": {
          "base_uri": "https://localhost:8080/",
          "height": 34
        }
      },
      "source": [
        "import pathlib\n",
        "data_root = \".\"\n",
        "data_root = pathlib.Path(data_root)\n",
        "print(data_root)"
      ],
      "execution_count": 81,
      "outputs": [
        {
          "output_type": "stream",
          "text": [
            ".\n"
          ],
          "name": "stdout"
        }
      ]
    },
    {
      "cell_type": "code",
      "metadata": {
        "id": "m85q58HHvFAq",
        "colab_type": "code",
        "outputId": "04170af1-3ea4-41c6-809a-47ca8987fbbb",
        "colab": {
          "base_uri": "https://localhost:8080/",
          "height": 202
        }
      },
      "source": [
        "for item in data_root.iterdir():\n",
        "  print(item)"
      ],
      "execution_count": 82,
      "outputs": [
        {
          "output_type": "stream",
          "text": [
            "2 (1)\n",
            "1 (1)\n",
            "4 (1)\n",
            "6 (1)\n",
            "5 (1)\n",
            "3 (1)\n",
            "0 (1)\n",
            "model1.h5\n",
            "model2.h5\n",
            "my_model.h5\n",
            "my_model1.h5\n"
          ],
          "name": "stdout"
        }
      ]
    },
    {
      "cell_type": "code",
      "metadata": {
        "id": "u7fG6fFmvNAQ",
        "colab_type": "code",
        "outputId": "a8ea153a-2dd2-439c-db97-5c7ea3e1d3de",
        "colab": {
          "base_uri": "https://localhost:8080/",
          "height": 34
        }
      },
      "source": [
        "import random\n",
        "all_image_paths = list(data_root.glob('*/*'))\n",
        "all_image_paths = [str(path) for path in all_image_paths]\n",
        "random.shuffle(all_image_paths)\n",
        "\n",
        "image_count = len(all_image_paths)\n",
        "image_count"
      ],
      "execution_count": 83,
      "outputs": [
        {
          "output_type": "execute_result",
          "data": {
            "text/plain": [
              "12971"
            ]
          },
          "metadata": {
            "tags": []
          },
          "execution_count": 83
        }
      ]
    },
    {
      "cell_type": "code",
      "metadata": {
        "id": "_Y_ZXzAkwS_Z",
        "colab_type": "code",
        "outputId": "a9ab9470-c96b-4a44-b224-ffc95b017bf2",
        "colab": {
          "base_uri": "https://localhost:8080/",
          "height": 185
        }
      },
      "source": [
        "all_image_paths[:10]"
      ],
      "execution_count": 84,
      "outputs": [
        {
          "output_type": "execute_result",
          "data": {
            "text/plain": [
              "['3 (1)/Training_26861624.jpg',\n",
              " '5 (1)/Training_38603678.jpg',\n",
              " '5 (1)/Training_66625705.jpg',\n",
              " '6 (1)/Training_16366128.jpg',\n",
              " '6 (1)/Training_26849795.jpg',\n",
              " '6 (1)/Training_48211185.jpg',\n",
              " '4 (1)/Training_32555112.jpg',\n",
              " '6 (1)/Training_4424766.jpg',\n",
              " '0 (1)/Training_15108951.jpg',\n",
              " '0 (1)/Training_2721399.jpg']"
            ]
          },
          "metadata": {
            "tags": []
          },
          "execution_count": 84
        }
      ]
    },
    {
      "cell_type": "code",
      "metadata": {
        "id": "3Wh3Ug2Zwaii",
        "colab_type": "code",
        "outputId": "ce142bc7-9982-4585-9602-7fe18e95978b",
        "colab": {
          "base_uri": "https://localhost:8080/",
          "height": 161
        }
      },
      "source": [
        "import IPython.display as display\n",
        "for n in range(3):\n",
        "  image_path = random.choice(all_image_paths)\n",
        "  display.display(display.Image(image_path))"
      ],
      "execution_count": 85,
      "outputs": [
        {
          "output_type": "display_data",
          "data": {
            "image/jpeg": "[encoded data removed]",
            "text/plain": [
              "<IPython.core.display.Image object>"
            ]
          },
          "metadata": {
            "tags": []
          }
        },
        {
          "output_type": "display_data",
          "data": {
            "image/jpeg": "[encoded data removed]",
            "text/plain": [
              "<IPython.core.display.Image object>"
            ]
          },
          "metadata": {
            "tags": []
          }
        },
        {
          "output_type": "display_data",
          "data": {
            "image/jpeg": "[encoded data removed]",
            "text/plain": [
              "<IPython.core.display.Image object>"
            ]
          },
          "metadata": {
            "tags": []
          }
        }
      ]
    },
    {
      "cell_type": "code",
      "metadata": {
        "id": "eFemW621w6Lf",
        "colab_type": "code",
        "outputId": "3e56e182-d6c2-41f4-fed7-83181fe80619",
        "colab": {
          "base_uri": "https://localhost:8080/",
          "height": 34
        }
      },
      "source": [
        "label_names = sorted(item.name for item in data_root.glob('*/') if item.is_dir())\n",
        "label_names"
      ],
      "execution_count": 86,
      "outputs": [
        {
          "output_type": "execute_result",
          "data": {
            "text/plain": [
              "['0 (1)', '1 (1)', '2 (1)', '3 (1)', '4 (1)', '5 (1)', '6 (1)']"
            ]
          },
          "metadata": {
            "tags": []
          },
          "execution_count": 86
        }
      ]
    },
    {
      "cell_type": "code",
      "metadata": {
        "id": "ZFDTo5Z72wub",
        "colab_type": "code",
        "outputId": "1caa992e-7ad1-4741-a354-856a2b40ae87",
        "colab": {
          "base_uri": "https://localhost:8080/",
          "height": 134
        }
      },
      "source": [
        "label_to_index = dict((name, index) for index,name in enumerate(label_names))\n",
        "label_to_index"
      ],
      "execution_count": 87,
      "outputs": [
        {
          "output_type": "execute_result",
          "data": {
            "text/plain": [
              "{'0 (1)': 0,\n",
              " '1 (1)': 1,\n",
              " '2 (1)': 2,\n",
              " '3 (1)': 3,\n",
              " '4 (1)': 4,\n",
              " '5 (1)': 5,\n",
              " '6 (1)': 6}"
            ]
          },
          "metadata": {
            "tags": []
          },
          "execution_count": 87
        }
      ]
    },
    {
      "cell_type": "code",
      "metadata": {
        "id": "3jePUy6U3mN6",
        "colab_type": "code",
        "outputId": "aa7e94ea-e40a-47e5-ebb1-a886c4ef9e35",
        "colab": {
          "base_uri": "https://localhost:8080/",
          "height": 34
        }
      },
      "source": [
        "all_image_labels = [label_to_index[pathlib.Path(path).parent.name]\n",
        "                    for path in all_image_paths]\n",
        "\n",
        "print(\"First 10 labels indices: \", all_image_labels[:10])"
      ],
      "execution_count": 88,
      "outputs": [
        {
          "output_type": "stream",
          "text": [
            "First 10 labels indices:  [3, 5, 5, 6, 6, 6, 4, 6, 0, 0]\n"
          ],
          "name": "stdout"
        }
      ]
    },
    {
      "cell_type": "code",
      "metadata": {
        "id": "9zh1NFt84YVm",
        "colab_type": "code",
        "outputId": "0e89ea89-96d0-4aba-c433-8c1abb52465e",
        "colab": {
          "base_uri": "https://localhost:8080/",
          "height": 34
        }
      },
      "source": [
        "img_path = all_image_paths[0]\n",
        "img_raw = tf.read_file(img_path)\n",
        "print(repr(img_raw)[:100]+\"...\")"
      ],
      "execution_count": 89,
      "outputs": [
        {
          "output_type": "stream",
          "text": [
            "<tf.Tensor: id=66580, shape=(), dtype=string, numpy=b'\\xff\\xd8\\xff\\xe0\\x00\\x10JFIF\\x00\\x01\\x01\\x00\\x...\n"
          ],
          "name": "stdout"
        }
      ]
    },
    {
      "cell_type": "code",
      "metadata": {
        "id": "SgCxvh6g4t0K",
        "colab_type": "code",
        "outputId": "c35040e8-f778-4e3c-ad19-b8c404ff428f",
        "colab": {
          "base_uri": "https://localhost:8080/",
          "height": 50
        }
      },
      "source": [
        "img_tensor = tf.image.decode_image(img_raw)\n",
        "\n",
        "print(img_tensor.shape)\n",
        "print(img_tensor.dtype)"
      ],
      "execution_count": 90,
      "outputs": [
        {
          "output_type": "stream",
          "text": [
            "(48, 48, 1)\n",
            "<dtype: 'uint8'>\n"
          ],
          "name": "stdout"
        }
      ]
    },
    {
      "cell_type": "code",
      "metadata": {
        "id": "VdtTLRIj6Gom",
        "colab_type": "code",
        "colab": {}
      },
      "source": [
        "img_final=tf.cast(img_tensor,tf.float32)\n",
        "img_final=img_final/255.0"
      ],
      "execution_count": 0,
      "outputs": []
    },
    {
      "cell_type": "code",
      "metadata": {
        "id": "-IHJJIGU6vKF",
        "colab_type": "code",
        "colab": {}
      },
      "source": [
        "def preprocess_image(image):\n",
        "  image = tf.image.decode_jpeg(image, channels=1)\n",
        "  image = tf.image.resize_images(image, [48,48])\n",
        "  image = tf.cast(image , tf.float32)\n",
        "  image = image/255.0  # normalize to [0,1] range\n",
        "  return image\n",
        "  "
      ],
      "execution_count": 0,
      "outputs": []
    },
    {
      "cell_type": "code",
      "metadata": {
        "id": "0yd8kppj6yqL",
        "colab_type": "code",
        "colab": {}
      },
      "source": [
        "def load_and_preprocess_image(path):\n",
        "  image = tf.read_file(path)\n",
        "  return preprocess_image(image)"
      ],
      "execution_count": 0,
      "outputs": []
    },
    {
      "cell_type": "code",
      "metadata": {
        "id": "ghkEXbHF9CrE",
        "colab_type": "code",
        "colab": {}
      },
      "source": [
        "path_ds = tf.data.Dataset.from_tensor_slices(all_image_paths)\n",
        "mini_path_ds=tf.data.Dataset.from_tensor_slices(all_image_paths[:3500])"
      ],
      "execution_count": 0,
      "outputs": []
    },
    {
      "cell_type": "code",
      "metadata": {
        "id": "y0p6QmFy9XAW",
        "colab_type": "code",
        "outputId": "de6bb623-a5ea-4673-d708-b392136fa210",
        "colab": {
          "base_uri": "https://localhost:8080/",
          "height": 84
        }
      },
      "source": [
        "print('shape: ', repr(path_ds.output_shapes))\n",
        "print('type: ', path_ds.output_types)\n",
        "print()\n",
        "print(path_ds)"
      ],
      "execution_count": 95,
      "outputs": [
        {
          "output_type": "stream",
          "text": [
            "shape:  TensorShape([])\n",
            "type:  <dtype: 'string'>\n",
            "\n",
            "<DatasetV1Adapter shapes: (), types: tf.string>\n"
          ],
          "name": "stdout"
        }
      ]
    },
    {
      "cell_type": "code",
      "metadata": {
        "id": "4lm7M_JYDDAN",
        "colab_type": "code",
        "colab": {}
      },
      "source": [
        "image_ds = path_ds.map(load_and_preprocess_image, num_parallel_calls=AUTOTUNE)\n",
        "mini_image_ds =mini_path_ds.map(load_and_preprocess_image, num_parallel_calls=AUTOTUNE)"
      ],
      "execution_count": 0,
      "outputs": []
    },
    {
      "cell_type": "code",
      "metadata": {
        "id": "FXy0h3YTDkYP",
        "colab_type": "code",
        "colab": {}
      },
      "source": [
        "label_ds = tf.data.Dataset.from_tensor_slices(tf.cast(all_image_labels, tf.int64))\n",
        "mini_label_ds = tf.data.Dataset.from_tensor_slices(tf.cast(all_image_labels[:3500], tf.int64))\n"
      ],
      "execution_count": 0,
      "outputs": []
    },
    {
      "cell_type": "code",
      "metadata": {
        "id": "vGq7ASdrDs-z",
        "colab_type": "code",
        "outputId": "6364c09f-8115-44e5-f9f4-f67712770b98",
        "colab": {
          "base_uri": "https://localhost:8080/",
          "height": 185
        }
      },
      "source": [
        "for label in label_ds.take(10):\n",
        "  print(label_names[label.numpy()])"
      ],
      "execution_count": 98,
      "outputs": [
        {
          "output_type": "stream",
          "text": [
            "3 (1)\n",
            "5 (1)\n",
            "5 (1)\n",
            "6 (1)\n",
            "6 (1)\n",
            "6 (1)\n",
            "4 (1)\n",
            "6 (1)\n",
            "0 (1)\n",
            "0 (1)\n"
          ],
          "name": "stdout"
        }
      ]
    },
    {
      "cell_type": "code",
      "metadata": {
        "id": "4C4WKi7gESaK",
        "colab_type": "code",
        "outputId": "49c35ba9-b5c2-4a97-e0a4-ff881109e175",
        "colab": {
          "base_uri": "https://localhost:8080/",
          "height": 185
        }
      },
      "source": [
        "for path in path_ds.take(10):\n",
        "  print(path)"
      ],
      "execution_count": 99,
      "outputs": [
        {
          "output_type": "stream",
          "text": [
            "tf.Tensor(b'3 (1)/Training_26861624.jpg', shape=(), dtype=string)\n",
            "tf.Tensor(b'5 (1)/Training_38603678.jpg', shape=(), dtype=string)\n",
            "tf.Tensor(b'5 (1)/Training_66625705.jpg', shape=(), dtype=string)\n",
            "tf.Tensor(b'6 (1)/Training_16366128.jpg', shape=(), dtype=string)\n",
            "tf.Tensor(b'6 (1)/Training_26849795.jpg', shape=(), dtype=string)\n",
            "tf.Tensor(b'6 (1)/Training_48211185.jpg', shape=(), dtype=string)\n",
            "tf.Tensor(b'4 (1)/Training_32555112.jpg', shape=(), dtype=string)\n",
            "tf.Tensor(b'6 (1)/Training_4424766.jpg', shape=(), dtype=string)\n",
            "tf.Tensor(b'0 (1)/Training_15108951.jpg', shape=(), dtype=string)\n",
            "tf.Tensor(b'0 (1)/Training_2721399.jpg', shape=(), dtype=string)\n"
          ],
          "name": "stdout"
        }
      ]
    },
    {
      "cell_type": "code",
      "metadata": {
        "id": "toIYmUa0EsO5",
        "colab_type": "code",
        "colab": {}
      },
      "source": [
        "image_label_ds = tf.data.Dataset.zip((image_ds, label_ds))\n",
        "mini_image_label_ds=tf.data.Dataset.zip((mini_image_ds,mini_label_ds))"
      ],
      "execution_count": 0,
      "outputs": []
    },
    {
      "cell_type": "code",
      "metadata": {
        "id": "g5CbaAKBFB5n",
        "colab_type": "code",
        "outputId": "d4551a87-e1b1-483d-e496-3cb5ed79aed0",
        "colab": {
          "base_uri": "https://localhost:8080/",
          "height": 101
        }
      },
      "source": [
        "print('image shape: ', image_label_ds.output_shapes[0])\n",
        "print('label shape: ', image_label_ds.output_shapes[1])\n",
        "print('types: ', image_label_ds.output_types)\n",
        "print()\n",
        "print(image_label_ds)"
      ],
      "execution_count": 101,
      "outputs": [
        {
          "output_type": "stream",
          "text": [
            "image shape:  (48, 48, 1)\n",
            "label shape:  ()\n",
            "types:  (tf.float32, tf.int64)\n",
            "\n",
            "<DatasetV1Adapter shapes: ((48, 48, 1), ()), types: (tf.float32, tf.int64)>\n"
          ],
          "name": "stdout"
        }
      ]
    },
    {
      "cell_type": "code",
      "metadata": {
        "id": "4MjUAMRQFVVO",
        "colab_type": "code",
        "colab": {}
      },
      "source": [
        "BATCH_SIZE = 32\n",
        "\n",
        "# Setting a shuffle buffer size as large as the dataset ensures that the data is\n",
        "# completely shuffled.\n",
        "ds = image_label_ds.shuffle(buffer_size=image_count)\n",
        "ds = ds.repeat()\n",
        "ds = ds.batch(BATCH_SIZE)\n",
        "# `prefetch` lets the dataset fetch batches, in the background while the model is training.\n",
        "ds = ds.prefetch(buffer_size=AUTOTUNE)\n",
        "ds\n",
        "mds=mini_image_label_ds.shuffle(buffer_size=1500)\n",
        "mds=mds.repeat()\n",
        "mds=mds.batch(BATCH_SIZE)\n",
        "mds=mds.prefetch(buffer_size=AUTOTUNE)"
      ],
      "execution_count": 0,
      "outputs": []
    },
    {
      "cell_type": "code",
      "metadata": {
        "id": "qM_boK2XISnK",
        "colab_type": "code",
        "outputId": "cb49857d-4c08-4233-f91e-e78c617de424",
        "colab": {
          "base_uri": "https://localhost:8080/",
          "height": 521
        }
      },
      "source": [
        "inp_shp=(48,48,1)\n",
        "model=tf.keras.Sequential()\n",
        "model.add(tf.keras.layers.Conv2D(32,(3,3),activation=\"relu\",input_shape=inp_shp))\n",
        "model.add(tf.keras.layers.MaxPooling2D((2,2)))\n",
        "model.add(tf.keras.layers.Conv2D(64,(3,3),activation=\"relu\"))\n",
        "model.add(tf.keras.layers.MaxPooling2D((2,2)))\n",
        "model.add(tf.keras.layers.Conv2D(128,(3,3),activation=\"relu\"))\n",
        "model.add(tf.keras.layers.MaxPooling2D((2,2)))\n",
        "model.add(tf.keras.layers.Conv2D(256,(3,3),activation=\"relu\"))\n",
        "model.add(tf.keras.layers.MaxPooling2D((2,2)))\n",
        "model.add(tf.keras.layers.Dense(256,activation=\"relu\"))\n",
        "model.add(tf.keras.layers.Dense(256,activation=\"relu\"))\n",
        "model.add(tf.keras.layers.Dense(7,activation=\"softmax\"))\n",
        "model.compile(optimizer=tf.train.AdamOptimizer(), \n",
        "              loss=tf.keras.losses.sparse_categorical_crossentropy,\n",
        "              metrics=[\"accuracy\"])\n",
        "model.summary()    "
      ],
      "execution_count": 0,
      "outputs": [
        {
          "output_type": "stream",
          "text": [
            "Model: \"sequential\"\n",
            "_________________________________________________________________\n",
            "Layer (type)                 Output Shape              Param #   \n",
            "=================================================================\n",
            "conv2d (Conv2D)              (None, 46, 46, 32)        320       \n",
            "_________________________________________________________________\n",
            "max_pooling2d (MaxPooling2D) (None, 23, 23, 32)        0         \n",
            "_________________________________________________________________\n",
            "conv2d_1 (Conv2D)            (None, 21, 21, 64)        18496     \n",
            "_________________________________________________________________\n",
            "max_pooling2d_1 (MaxPooling2 (None, 10, 10, 64)        0         \n",
            "_________________________________________________________________\n",
            "conv2d_2 (Conv2D)            (None, 8, 8, 128)         73856     \n",
            "_________________________________________________________________\n",
            "max_pooling2d_2 (MaxPooling2 (None, 4, 4, 128)         0         \n",
            "_________________________________________________________________\n",
            "conv2d_3 (Conv2D)            (None, 2, 2, 256)         295168    \n",
            "_________________________________________________________________\n",
            "max_pooling2d_3 (MaxPooling2 (None, 1, 1, 256)         0         \n",
            "_________________________________________________________________\n",
            "dense (Dense)                (None, 1, 1, 256)         65792     \n",
            "_________________________________________________________________\n",
            "dense_1 (Dense)              (None, 1, 1, 256)         65792     \n",
            "_________________________________________________________________\n",
            "dense_2 (Dense)              (None, 1, 1, 7)           1799      \n",
            "=================================================================\n",
            "Total params: 521,223\n",
            "Trainable params: 521,223\n",
            "Non-trainable params: 0\n",
            "_________________________________________________________________\n"
          ],
          "name": "stdout"
        }
      ]
    },
    {
      "cell_type": "code",
      "metadata": {
        "id": "N8v5PclJYNaV",
        "colab_type": "code",
        "colab": {}
      },
      "source": [
        "\n",
        "mini_image_batch, mini_label_batch =next(iter(mds))\n",
        "image_batch, label_batch=next(iter(ds))"
      ],
      "execution_count": 0,
      "outputs": []
    },
    {
      "cell_type": "code",
      "metadata": {
        "id": "Wz-l9iM3a8cP",
        "colab_type": "code",
        "outputId": "39a6829e-8489-46ff-eeaa-b9913a729c4e",
        "colab": {
          "base_uri": "https://localhost:8080/",
          "height": 34
        }
      },
      "source": [
        "steps_per_epoch=tf.ceil(3500/BATCH_SIZE).numpy()\n",
        "steps_per_epoch\n"
      ],
      "execution_count": 35,
      "outputs": [
        {
          "output_type": "execute_result",
          "data": {
            "text/plain": [
              "110.0"
            ]
          },
          "metadata": {
            "tags": []
          },
          "execution_count": 35
        }
      ]
    },
    {
      "cell_type": "code",
      "metadata": {
        "id": "E2dAi68udBPs",
        "colab_type": "code",
        "outputId": "80031651-8530-45c0-cf70-75247a88aa5a",
        "colab": {
          "base_uri": "https://localhost:8080/",
          "height": 423
        }
      },
      "source": [
        "history=model.fit(mds, epochs=10, steps_per_epoch=steps_per_epoch)"
      ],
      "execution_count": 0,
      "outputs": [
        {
          "output_type": "stream",
          "text": [
            "Epoch 1/10\n"
          ],
          "name": "stdout"
        },
        {
          "output_type": "stream",
          "text": [
            "W0530 16:17:41.976308 140244421883776 deprecation.py:323] From /usr/local/lib/python3.6/dist-packages/tensorflow/python/ops/math_grad.py:1250: add_dispatch_support.<locals>.wrapper (from tensorflow.python.ops.array_ops) is deprecated and will be removed in a future version.\n",
            "Instructions for updating:\n",
            "Use tf.where in 2.0, which has the same broadcast rule as np.where\n"
          ],
          "name": "stderr"
        },
        {
          "output_type": "stream",
          "text": [
            "47/47 [==============================] - 9s 192ms/step - loss: 1.8989 - acc: 0.1589\n",
            "Epoch 2/10\n",
            "47/47 [==============================] - 7s 146ms/step - loss: 1.8866 - acc: 0.1572\n",
            "Epoch 3/10\n",
            "47/47 [==============================] - 7s 147ms/step - loss: 1.8820 - acc: 0.1588\n",
            "Epoch 4/10\n",
            "47/47 [==============================] - 7s 146ms/step - loss: 1.8620 - acc: 0.1675\n",
            "Epoch 5/10\n",
            "47/47 [==============================] - 7s 148ms/step - loss: 1.8552 - acc: 0.1654\n",
            "Epoch 6/10\n",
            "47/47 [==============================] - 7s 147ms/step - loss: 1.8100 - acc: 0.1762\n",
            "Epoch 7/10\n",
            "47/47 [==============================] - 7s 147ms/step - loss: 1.7850 - acc: 0.1624\n",
            "Epoch 8/10\n",
            "47/47 [==============================] - 7s 146ms/step - loss: 1.7411 - acc: 0.1694\n",
            "Epoch 9/10\n",
            "47/47 [==============================] - 7s 147ms/step - loss: 1.7081 - acc: 0.1726\n",
            "Epoch 10/10\n",
            "47/47 [==============================] - 8s 166ms/step - loss: 1.6523 - acc: 0.1693\n"
          ],
          "name": "stdout"
        }
      ]
    },
    {
      "cell_type": "code",
      "metadata": {
        "id": "cqmX7LTqIfXm",
        "colab_type": "code",
        "outputId": "044031a2-b14a-4848-fd45-6bd6d0af74f1",
        "colab": {
          "base_uri": "https://localhost:8080/",
          "height": 54
        }
      },
      "source": [
        "model.save(\"model1.h5\")"
      ],
      "execution_count": 0,
      "outputs": [
        {
          "output_type": "stream",
          "text": [
            "W0530 10:31:51.964173 140631301216128 hdf5_format.py:110] TensorFlow optimizers do not make it possible to access optimizer attributes or optimizer state after instantiation. As a result, we cannot save the optimizer as part of the model save file. You will have to compile your model again after loading it. Prefer using a Keras optimizer instead (see keras.io/optimizers).\n"
          ],
          "name": "stderr"
        }
      ]
    },
    {
      "cell_type": "code",
      "metadata": {
        "id": "cjhhdFFkv0F7",
        "colab_type": "code",
        "colab": {}
      },
      "source": [
        "mini_image_batch, mini_label_batch =next(iter(mds))"
      ],
      "execution_count": 0,
      "outputs": []
    },
    {
      "cell_type": "code",
      "metadata": {
        "id": "pAMBp7iaS1v5",
        "colab_type": "code",
        "colab": {}
      },
      "source": [
        "inp_shp=(48,48,1)\n",
        "model=tf.keras.Sequential()\n",
        "model.add(tf.keras.layers.Conv2D(32,(3,3),activation=\"relu\",input_shape=inp_shp))\n",
        "model.add(tf.keras.layers.BatchNormalization())\n",
        "model.add(tf.keras.layers.MaxPooling2D((2,2)))\n",
        "model.add(tf.keras.layers.Conv2D(48,(3,3),activation=\"relu\"))\n",
        "model.add(tf.keras.layers.BatchNormalization())\n",
        "model.add(tf.keras.layers.MaxPooling2D((2,2)))\n",
        "model.add(tf.keras.layers.Conv2D(64,(3,3),activation=\"relu\"))\n",
        "model.add(tf.keras.layers.BatchNormalization())\n",
        "model.add(tf.keras.layers.MaxPooling2D((2,2)))\n",
        "model.add(tf.keras.layers.Conv2D(128,(3,3),activation=\"relu\"))\n",
        "model.add(tf.keras.layers.BatchNormalization())\n",
        "model.add(tf.keras.layers.MaxPooling2D((2,2)))\n",
        "model.add(tf.keras.layers.Flatten())\n",
        "model.add(tf.keras.layers.Dense(256,activation=\"relu\"))\n",
        "model.add(tf.keras.layers.Dropout(0.2))\n",
        "model.add(tf.keras.layers.Dense(7,activation=\"softmax\"))"
      ],
      "execution_count": 0,
      "outputs": []
    },
    {
      "cell_type": "code",
      "metadata": {
        "id": "vGnDMXj3VW8K",
        "colab_type": "code",
        "colab": {}
      },
      "source": [
        "\n",
        "model.compile(optimizer=tf.keras.optimizers.Adagrad(lr=0.1, epsilon=None, decay=0.0), \n",
        "              loss=tf.keras.losses.sparse_categorical_crossentropy,\n",
        "              metrics=[\"accuracy\"])\n"
      ],
      "execution_count": 0,
      "outputs": []
    },
    {
      "cell_type": "code",
      "metadata": {
        "id": "spbhW-hbYppW",
        "colab_type": "code",
        "outputId": "86c69fa6-c3fc-45c7-ebc2-ab75c9bd5899",
        "colab": {
          "base_uri": "https://localhost:8080/",
          "height": 185
        }
      },
      "source": [
        "history=model.fit(mds, epochs=5, steps_per_epoch=steps_per_epoch)"
      ],
      "execution_count": 125,
      "outputs": [
        {
          "output_type": "stream",
          "text": [
            "Epoch 1/5\n",
            "110/110 [==============================] - 24s 217ms/step - loss: 0.9040 - acc: 0.6597\n",
            "Epoch 2/5\n",
            "110/110 [==============================] - 23s 205ms/step - loss: 0.6771 - acc: 0.7491\n",
            "Epoch 3/5\n",
            "110/110 [==============================] - 23s 210ms/step - loss: 0.5408 - acc: 0.8026\n",
            "Epoch 4/5\n",
            "110/110 [==============================] - 23s 210ms/step - loss: 0.4320 - acc: 0.8477\n",
            "Epoch 5/5\n",
            "110/110 [==============================] - 23s 209ms/step - loss: 0.3439 - acc: 0.8724\n"
          ],
          "name": "stdout"
        }
      ]
    },
    {
      "cell_type": "code",
      "metadata": {
        "id": "iZb41TSKjyR3",
        "colab_type": "code",
        "colab": {
          "base_uri": "https://localhost:8080/",
          "height": 590
        },
        "outputId": "ed7c23bc-f641-4bb1-ff46-c3e419406833"
      },
      "source": [
        "import matplotlib.pyplot as plt\n",
        "print(history.history.keys())\n",
        "# summarize history for accuracy\n",
        "plt.plot(history.history['acc'])\n",
        "plt.title('model accuracy')\n",
        "plt.ylabel('accuracy')\n",
        "plt.xlabel('epoch')\n",
        "plt.legend(['train'], loc='upper left')\n",
        "plt.show()\n",
        "# summarize history for loss\n",
        "plt.plot(history.history['loss'])\n",
        "plt.title('model loss')\n",
        "plt.ylabel('loss')\n",
        "plt.xlabel('epoch')\n",
        "plt.legend(['train'], loc='upper left')\n",
        "plt.show()"
      ],
      "execution_count": 126,
      "outputs": [
        {
          "output_type": "stream",
          "text": [
            "dict_keys(['loss', 'acc'])\n"
          ],
          "name": "stdout"
        },
        {
          "output_type": "display_data",
          "data": {
            "image/png": "[encoded data removed]",
            "text/plain": [
              "<Figure size 432x288 with 1 Axes>"
            ]
          },
          "metadata": {
            "tags": []
          }
        },
        {
          "output_type": "display_data",
          "data": {
            "image/png": "[encoded data removed]",
            "text/plain": [
              "<Figure size 432x288 with 1 Axes>"
            ]
          },
          "metadata": {
            "tags": []
          }
        }
      ]
    },
    {
      "cell_type": "code",
      "metadata": {
        "id": "FZjteTQIjWNf",
        "colab_type": "code",
        "colab": {}
      },
      "source": [
        "model.save(\"my_model5.h5\")"
      ],
      "execution_count": 0,
      "outputs": []
    },
    {
      "cell_type": "code",
      "metadata": {
        "id": "ToRxzhQzlduh",
        "colab_type": "code",
        "outputId": "279f06d6-a046-4c26-c0a4-f728f4630c54",
        "colab": {
          "base_uri": "https://localhost:8080/",
          "height": 353
        }
      },
      "source": [
        "history=model.fit(ds, epochs=10, steps_per_epoch=steps_per_epoch)\n"
      ],
      "execution_count": 122,
      "outputs": [
        {
          "output_type": "stream",
          "text": [
            "Epoch 1/10\n",
            "110/110 [==============================] - 39s 358ms/step - loss: 1.4528 - acc: 0.4605\n",
            "Epoch 2/10\n",
            "110/110 [==============================] - 23s 213ms/step - loss: 1.4356 - acc: 0.4466\n",
            "Epoch 3/10\n",
            "110/110 [==============================] - 23s 212ms/step - loss: 1.4042 - acc: 0.4656\n",
            "Epoch 4/10\n",
            "110/110 [==============================] - 23s 211ms/step - loss: 1.3755 - acc: 0.4773\n",
            "Epoch 5/10\n",
            "110/110 [==============================] - 23s 211ms/step - loss: 1.2694 - acc: 0.5139\n",
            "Epoch 6/10\n",
            "110/110 [==============================] - 23s 213ms/step - loss: 1.2795 - acc: 0.5159\n",
            "Epoch 7/10\n",
            "110/110 [==============================] - 23s 210ms/step - loss: 1.3027 - acc: 0.4983\n",
            "Epoch 8/10\n",
            "110/110 [==============================] - 23s 210ms/step - loss: 1.1887 - acc: 0.5506\n",
            "Epoch 9/10\n",
            "110/110 [==============================] - 23s 210ms/step - loss: 1.1725 - acc: 0.5571\n",
            "Epoch 10/10\n",
            "110/110 [==============================] - 23s 209ms/step - loss: 1.1850 - acc: 0.5526\n"
          ],
          "name": "stdout"
        }
      ]
    },
    {
      "cell_type": "code",
      "metadata": {
        "id": "sv550vFLrOYM",
        "colab_type": "code",
        "colab": {
          "base_uri": "https://localhost:8080/",
          "height": 590
        },
        "outputId": "46dba379-5d93-437f-be81-11a6c8375789"
      },
      "source": [
        "import matplotlib.pyplot as plt\n",
        "print(history.history.keys())\n",
        "# summarize history for accuracy\n",
        "plt.plot(history.history['acc'])\n",
        "plt.title('model accuracy')\n",
        "plt.ylabel('accuracy')\n",
        "plt.xlabel('epoch')\n",
        "plt.legend(['train'], loc='upper left')\n",
        "plt.show()\n",
        "# summarize history for loss\n",
        "plt.plot(history.history['loss'])\n",
        "plt.title('model loss')\n",
        "plt.ylabel('loss')\n",
        "plt.xlabel('epoch')\n",
        "plt.legend(['train'], loc='upper left')\n",
        "plt.show()"
      ],
      "execution_count": 123,
      "outputs": [
        {
          "output_type": "stream",
          "text": [
            "dict_keys(['loss', 'acc'])\n"
          ],
          "name": "stdout"
        },
        {
          "output_type": "display_data",
          "data": {
            "image/png": "[encoded data removed]",
            "text/plain": [
              "<Figure size 432x288 with 1 Axes>"
            ]
          },
          "metadata": {
            "tags": []
          }
        },
        {
          "output_type": "display_data",
          "data": {
            "image/png": "[encoded data removed]",
            "text/plain": [
              "<Figure size 432x288 with 1 Axes>"
            ]
          },
          "metadata": {
            "tags": []
          }
        }
      ]
    },
    {
      "cell_type": "code",
      "metadata": {
        "id": "LVa0jSrK7CTz",
        "colab_type": "code",
        "colab": {}
      },
      "source": [
        "model.save(\"my_model4.h5\")"
      ],
      "execution_count": 0,
      "outputs": []
    }
  ]
}